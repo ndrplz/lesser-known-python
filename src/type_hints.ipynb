{
 "cells": [
  {
   "cell_type": "markdown",
   "metadata": {},
   "source": [
    "# Type hints\n",
    "\n",
    "*Type hinting is introduced in Python 3.5 by [PEP 484](https://www.python.org/dev/peps/pep-0484/). What are we\n",
    " talking about, and why should it be useful?*"
   ]
  },
  {
   "cell_type": "markdown",
   "metadata": {
    "collapsed": true
   },
   "source": [
    "## Motivation\n",
    "**Since Python is dynamically typed, it can be really hard to infer the type of an object just by looking at the code.**\n",
    "\n",
    "This can really cause you a bad headache if you're trying to understand what's going on in a piece of code written by\n",
    " someone else (*I wonder which type of value is this function expecting...*). Also, IDEs like PyCharm often can't really help you much as you type, since they have no\n",
    " clue about the type of object being used.\n",
    " \n",
    "Wouldn't it be nice to avoid the nasty bugs that happen when we are passing the wrong type of value to a function? And what if the IDE could warn us as we type, or giving suggestions (auto-completion)?\n",
    "\n",
    "**Here's were type hints come into play**."
   ]
  },
  {
   "cell_type": "markdown",
   "metadata": {},
   "source": [
    "## Example\n",
    "\n",
    "Often the best way to explain something is just to put it down in code.\n",
    "\n",
    "So let's define a toy function and compare how it looks without and with type hints.\n",
    "\n",
    "**Without type hints**:"
   ]
  },
  {
   "cell_type": "code",
   "execution_count": 1,
   "metadata": {
    "collapsed": true
   },
   "outputs": [],
   "source": [
    "def greeting(name):\n",
    "    return 'Hello, {}.'.format(name)"
   ]
  },
  {
   "cell_type": "markdown",
   "metadata": {},
   "source": [
    "**With type hints**:"
   ]
  },
  {
   "cell_type": "code",
   "execution_count": 2,
   "metadata": {
    "collapsed": true
   },
   "outputs": [],
   "source": [
    "def greeting(name: str) -> str:\n",
    "    return 'Hello, {}.'.format(name)"
   ]
  },
  {
   "cell_type": "markdown",
   "metadata": {},
   "source": [
    "It didn't change much, right? We basically just added information about the expected type value of the parameter as well as the type of the return value.\n",
    "\n",
    "**Yet if someone else now reads our code, it's immediately clear what kind of value is our `greetings` function expecting. We embedded the documentation in the code itself.**"
   ]
  },
  {
   "cell_type": "markdown",
   "metadata": {},
   "source": [
    "*...but here comes the real magic...*\n",
    "\n",
    "Let's open our IDE and try to feed our `greetings` function with the wrong object:"
   ]
  },
  {
   "cell_type": "markdown",
   "metadata": {},
   "source": [
    "![PyCharm type warning 1](../img/type_hint_warning.png)"
   ]
  },
  {
   "cell_type": "markdown",
   "metadata": {},
   "source": [
    "*See?* Or even:"
   ]
  },
  {
   "cell_type": "markdown",
   "metadata": {},
   "source": [
    "![PyCharm type warning 2](../img/type_hint_warning_return.png)"
   ]
  },
  {
   "cell_type": "markdown",
   "metadata": {},
   "source": [
    "**Now the IDE's integrated type checker knows both the expected type of the parameter and the one of the return value; thus it can help us much more and may prevent us from doing a variety of stupid things!**"
   ]
  },
  {
   "cell_type": "markdown",
   "metadata": {
    "collapsed": true
   },
   "source": [
    "## Final remarks\n",
    "\n",
    "This is clearly just the tip of the iceberg. \n",
    "\n",
    "Advanced usage of type hints is out of the scope of this introduction and I plan to dedicate to it a separate section later (I'll link it here when ready).\n",
    "\n",
    "**+** I personally find type hints very useful: they help embedding documentation in the code itself and permit the IDE's type checker to help us in a number of ways.\n",
    "\n",
    "**-** However, if you're one of those people who think that type hints just add clutter to the code and break python's readability, take it easy. Type hints are all but mandatory. As explicitly mentioned in [PEP 484](https://www.python.org/dev/peps/pep-0484/):\n",
    ">  Python will remain a dynamically typed language, and the authors have no desire to ever make type hints mandatory, \n",
    " even by convention.\n",
    "\n",
    "## Further readings\n",
    "\n",
    "* [PEP 484 -- Type Hints](https://www.python.org/dev/peps/pep-0484/)\n",
    "* [PyCharm Blog: Python 3.5 type hinting in PyCharm 5](https://blog.jetbrains.com/pycharm/2015/11/python-3-5-type-hinting-in-pycharm-5/)\n",
    "* [StackOverflow: What are Type hints in Python 3.5](https://stackoverflow.com/questions/32557920/what-are-type-hints-in-python-3-5)"
   ]
  }
 ],
 "metadata": {
  "anaconda-cloud": {},
  "kernelspec": {
   "display_name": "Python [conda root]",
   "language": "python",
   "name": "conda-root-py"
  },
  "language_info": {
   "codemirror_mode": {
    "name": "ipython",
    "version": 3
   },
   "file_extension": ".py",
   "mimetype": "text/x-python",
   "name": "python",
   "nbconvert_exporter": "python",
   "pygments_lexer": "ipython3",
   "version": "3.5.2"
  }
 },
 "nbformat": 4,
 "nbformat_minor": 0
}
