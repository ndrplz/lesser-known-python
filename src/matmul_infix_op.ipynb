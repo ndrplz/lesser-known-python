{
 "cells": [
  {
   "cell_type": "markdown",
   "metadata": {},
   "source": [
    "# A dedicated `@` infix operator for matrix multiplication\n",
    "Understanding why a lot of smart people bothered to propose [PEP465](https://www.python.org/dev/peps/pep-0465/)."
   ]
  },
  {
   "cell_type": "markdown",
   "metadata": {},
   "source": [
    "## Prequel: what is an *infix* operator?\n",
    "Citing from [Wikipedia](https://en.wikipedia.org/wiki/Infix_notation):\n",
    "> Infix notation is the notation commonly used in arithmetical and logical formulae and statements.\n",
    "It is characterized by the placement of operators between operands—\"infixed operators\"—such as the plus sign in 2 + 2.\n",
    "\n",
    "As opposite example think about the `C` increment operators like in `i++` or `++i`. These are *postfix* and *prefix* respectively."
   ]
  },
  {
   "cell_type": "markdown",
   "metadata": {},
   "source": [
    "## Motivation (from [PEP465](https://www.python.org/dev/peps/pep-0465/))\n",
    "**Because Python syntax allowed for only a single multiplication operator `*`, libraries providing array-like objects\n",
    "must decide: either use `*` for elementwise multiplication, or use `*` for matrix multiplication**. Unfortunately, it turns out that when doing general-purpose number crunching, both operations are used frequently! So it's not clear in which of the two cases the infix should be preferred to the function call syntax.\n",
    "\n",
    "**This leads to a lot of mixups, since some number crunching libraries followed one convention and some another. Or the same library can switch convention when dealing with different objects (what!?).** Exactly. For `numpy.ndarray` objects (now [deprecated](https://docs.scipy.org/doc/numpy/reference/generated/numpy.matrix.html), to be fair), `*` performs elementwise multiplication, and matrix multiplication must use a function call (`numpy.matmul`). For `numpy.matrix` objects, `*` performs matrix multiplication, and elementwise multiplication requires function syntax. Can be something more evil than that?\n",
    "<img src=\"../img/evilest.jpg\" alt=\"evilest_thing\" width=\"400\"/>"
   ]
  },
  {
   "cell_type": "markdown",
   "metadata": {},
   "source": [
    "## Explanation\n",
    "So, how to solve the issue above?\n",
    "\n",
    "By dedicating a **brand new infix operator to matrix multiplication**, simple!"
   ]
  },
  {
   "cell_type": "code",
   "execution_count": null,
   "metadata": {
    "collapsed": false
   },
   "outputs": [],
   "source": [
    "@"
   ]
  },
  {
   "cell_type": "markdown",
   "metadata": {},
   "source": [
    "isn't that nice?"
   ]
  },
  {
   "cell_type": "markdown",
   "metadata": {},
   "source": [
    "## Example\n",
    "So let's see a real-world example of our operator in action.\n",
    "\n",
    "We are trying to estimate the parameters **w** of a linear regression model, and we have to implement something like the following:\n",
    "\n",
    "![linear_regression_closed_form](../img/lin_regr_closed_form.gif)\n",
    "\n",
    "**So, here is how we can implement it using numpy `matmul` function**:"
   ]
  },
  {
   "cell_type": "code",
   "execution_count": null,
   "metadata": {
    "collapsed": true
   },
   "outputs": [],
   "source": [
    "w = np.matmul(np.matmul(inv(np.matmul(X.T, X)), X.T), y)"
   ]
  },
  {
   "cell_type": "markdown",
   "metadata": {},
   "source": [
    "That should do the job. There's quite a lot of clutter, though.\n",
    "\n",
    "**Now let's see how it looks using the infix notation**:"
   ]
  },
  {
   "cell_type": "code",
   "execution_count": null,
   "metadata": {
    "collapsed": false
   },
   "outputs": [],
   "source": [
    "w = inv(X.T @ X) @ X.T @ y"
   ]
  },
  {
   "cell_type": "markdown",
   "metadata": {},
   "source": [
    "**Boom!**\n",
    "\n",
    "Totally different right? Now:\n",
    "* The mapping between formulas and code is almost transparent\n",
    "* There's only one couple of parenthesis - the only meaningful one!\n",
    "* Less clutter, that is, improved readability"
   ]
  },
  {
   "cell_type": "markdown",
   "metadata": {},
   "source": [
    "## Further readings\n",
    "* [PEP 465 -- A dedicated infix operator for matrix multiplication](https://www.python.org/dev/peps/pep-0465/)"
   ]
  }
 ],
 "metadata": {
  "anaconda-cloud": {},
  "kernelspec": {
   "display_name": "Python [default]",
   "language": "python",
   "name": "python3"
  },
  "language_info": {
   "codemirror_mode": {
    "name": "ipython",
    "version": 3
   },
   "file_extension": ".py",
   "mimetype": "text/x-python",
   "name": "python",
   "nbconvert_exporter": "python",
   "pygments_lexer": "ipython3",
   "version": "3.5.2"
  }
 },
 "nbformat": 4,
 "nbformat_minor": 1
}
