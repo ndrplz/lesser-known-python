{
 "cells": [
  {
   "cell_type": "markdown",
   "metadata": {},
   "source": [
    "# Using `timeit` module for easy timing of small bits of code"
   ]
  },
  {
   "cell_type": "markdown",
   "metadata": {},
   "source": [
    "To showcase a possible usage for `timeit` module, suppose that we work with matrices filled with random {0, 1} values, and we have to count the number of active pixels in them. "
   ]
  },
  {
   "cell_type": "markdown",
   "metadata": {},
   "source": [
    "So our data can be generated for example like:"
   ]
  },
  {
   "cell_type": "code",
   "execution_count": 2,
   "metadata": {},
   "outputs": [],
   "source": [
    "import numpy as np\n",
    "\n",
    "np.random.seed(123)\n",
    "\n",
    "noise_matrix = np.round(np.random.rand(64, 64))"
   ]
  },
  {
   "cell_type": "markdown",
   "metadata": {},
   "source": [
    "Which, by the way, looks like this when plotted:"
   ]
  },
  {
   "cell_type": "code",
   "execution_count": 3,
   "metadata": {},
   "outputs": [
    {
     "data": {
      "text/plain": [
       "<matplotlib.image.AxesImage at 0x10974f550>"
      ]
     },
     "execution_count": 3,
     "metadata": {},
     "output_type": "execute_result"
    },
    {
     "data": {
      "image/png": "[encoded data removed]",
      "text/plain": [
       "<Figure size 432x288 with 1 Axes>"
      ]
     },
     "metadata": {},
     "output_type": "display_data"
    }
   ],
   "source": [
    "%matplotlib inline\n",
    "import matplotlib.pyplot as plt\n",
    "\n",
    "plt.imshow(noise_matrix)"
   ]
  },
  {
   "cell_type": "markdown",
   "metadata": {},
   "source": [
    "Now let's say we have to get the number of active pixels in the image. \n",
    "\n",
    "We can implement a trivial function to handle this task:"
   ]
  },
  {
   "cell_type": "code",
   "execution_count": 4,
   "metadata": {},
   "outputs": [],
   "source": [
    "def sum_naive(matrix: np.ndarray):\n",
    "    \"\"\"\n",
    "    Returns the number of positive elements in a matrix.\n",
    "    \"\"\"\n",
    "    count = 0\n",
    "    matrix = matrix.reshape(-1)\n",
    "    for i in range(matrix.size):\n",
    "        if matrix[i] > 0:\n",
    "            count += 1\n",
    "    return count"
   ]
  },
  {
   "cell_type": "markdown",
   "metadata": {},
   "source": [
    "Clearly, instead of re-inventing the wheel, we could have just relied on the numpy library. The following would do the job too, right?"
   ]
  },
  {
   "cell_type": "code",
   "execution_count": 5,
   "metadata": {},
   "outputs": [],
   "source": [
    "def sum_numpy(matrix: np.ndarray):\n",
    "    \"\"\"\n",
    "    Returns the number of positive elements in a matrix.\n",
    "    \"\"\"\n",
    "    return np.sum(matrix > 0)"
   ]
  },
  {
   "cell_type": "markdown",
   "metadata": {},
   "source": [
    "Quick sanity-check that they both give the same result:"
   ]
  },
  {
   "cell_type": "code",
   "execution_count": 6,
   "metadata": {
    "collapsed": false
   },
   "outputs": [
    {
     "name": "stdout",
     "output_type": "stream",
     "text": [
      "Number of active pixels: 2051.\n"
     ]
    }
   ],
   "source": [
    "assert sum_naive(noise_matrix) == sum_numpy(noise_matrix)\n",
    "print(f'Number of active pixels: {sum_naive(noise_matrix)}.')"
   ]
  },
  {
   "cell_type": "markdown",
   "metadata": {},
   "source": [
    "Cool, they both seem to work! But say that we are also concerned about performance. How does our `sum_naive` perform compared to the `sum_numpy` implementation?\n",
    "\n",
    "The most obvious way to do it is by checking the current time with `time.time()`, executing our method a bunch of times, then calling again `time.time()` to check the elapsed time."
   ]
  },
  {
   "cell_type": "code",
   "execution_count": 7,
   "metadata": {},
   "outputs": [
    {
     "name": "stdout",
     "output_type": "stream",
     "text": [
      "Elapsed naive: 12.005263 sec.\nElapsed numpy: 0.112646 sec.\n"
     ]
    }
   ],
   "source": [
    "import time\n",
    "\n",
    "n_exec = int(1e4)\n",
    "\n",
    "# Benchmarking our custom method\n",
    "t = time.time()\n",
    "for _ in range(n_exec):\n",
    "    sum_naive(matrix=noise_matrix)\n",
    "elapsed_naive = (time.time() - t)\n",
    "\n",
    "# Benchmarking numpy implementation\n",
    "t = time.time()\n",
    "for _ in range(n_exec):\n",
    "    sum_numpy(matrix=noise_matrix)\n",
    "elapsed_numpy = (time.time() - t)\n",
    "\n",
    "print(f'Elapsed naive: {elapsed_naive:.06f} sec.')\n",
    "print(f'Elapsed numpy: {elapsed_numpy:.06f} sec.')"
   ]
  },
  {
   "cell_type": "markdown",
   "metadata": {},
   "source": [
    "Good news is, there's a built-in module called `timeit` exactly for this kind of use case, i.e. providing a simple way to time small bits of Python code.\n",
    "\n",
    "Let's refactor our benchmarking code to make use of it:"
   ]
  },
  {
   "cell_type": "code",
   "execution_count": 8,
   "metadata": {},
   "outputs": [
    {
     "name": "stdout",
     "output_type": "stream",
     "text": [
      "Elapsed naive: 11.652674 sec.\nElapsed numpy: 0.102287 sec.\n"
     ]
    }
   ],
   "source": [
    "import timeit\n",
    "\n",
    "elapsed_naive = timeit.timeit('sum_naive(noise_matrix)', globals=globals(), number=n_exec)\n",
    "elapsed_numpy = timeit.timeit('sum_numpy(noise_matrix)', globals=globals(), number=n_exec)\n",
    "\n",
    "print(f'Elapsed naive: {elapsed_naive:.06f} sec.')\n",
    "print(f'Elapsed numpy: {elapsed_numpy:.06f} sec.')"
   ]
  },
  {
   "cell_type": "markdown",
   "metadata": {},
   "source": [
    "And that's it! Cool right? We saved quite a bunch of lines of code, and the result is even more readable.\n",
    "\n",
    "Beyond code readability, the use of `timeit` has a bunch of other advantages. For example, it automatically [disables garbage collection during timing](https://docs.python.org/3/library/timeit.html#timeit.Timer.timeit) to maximize reproducibility of measurements. To the same end, there's a [convenience function which allows to call `timeit` repeatedly](https://docs.python.org/3/library/timeit.html#timeit.Timer.repeat) to minimize the influence of other tasks on the timing process.\n",
    "\n",
    "For more details and advanced usage please refer to the [docs](https://docs.python.org/3/library/timeit.html)."
   ]
  }
 ],
 "metadata": {
  "kernelspec": {
   "display_name": "Python 2",
   "language": "python",
   "name": "python2"
  },
  "language_info": {
   "codemirror_mode": {
    "name": "ipython",
    "version": 2
   },
   "file_extension": ".py",
   "mimetype": "text/x-python",
   "name": "python",
   "nbconvert_exporter": "python",
   "pygments_lexer": "ipython2",
   "version": "2.7.6"
  }
 },
 "nbformat": 4,
 "nbformat_minor": 0
}
